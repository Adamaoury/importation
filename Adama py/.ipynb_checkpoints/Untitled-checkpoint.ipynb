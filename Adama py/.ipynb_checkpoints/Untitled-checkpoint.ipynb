{
 "cells": [
  {
   "cell_type": "code",
   "execution_count": 3,
   "metadata": {},
   "outputs": [],
   "source": [
    "import numpy as np\n",
    "import pandas as pd\n",
    "import matplotlib.pyplot as plt"
   ]
  },
  {
   "cell_type": "code",
   "execution_count": 5,
   "metadata": {},
   "outputs": [],
   "source": [
    "df=pd.read_csv('C:\\\\Users\\\\ADAMA OURY BAH\\\\Documents\\\\Python\\\\all_data_copy.csv')"
   ]
  },
  {
   "cell_type": "code",
   "execution_count": 6,
   "metadata": {},
   "outputs": [
    {
     "data": {
      "text/html": [
       "<div>\n",
       "<style scoped>\n",
       "    .dataframe tbody tr th:only-of-type {\n",
       "        vertical-align: middle;\n",
       "    }\n",
       "\n",
       "    .dataframe tbody tr th {\n",
       "        vertical-align: top;\n",
       "    }\n",
       "\n",
       "    .dataframe thead th {\n",
       "        text-align: right;\n",
       "    }\n",
       "</style>\n",
       "<table border=\"1\" class=\"dataframe\">\n",
       "  <thead>\n",
       "    <tr style=\"text-align: right;\">\n",
       "      <th></th>\n",
       "      <th>Order ID</th>\n",
       "      <th>Product</th>\n",
       "      <th>Quantity Ordered</th>\n",
       "      <th>Price Each</th>\n",
       "      <th>Order Date</th>\n",
       "      <th>Purchase Address</th>\n",
       "    </tr>\n",
       "  </thead>\n",
       "  <tbody>\n",
       "    <tr>\n",
       "      <td>0</td>\n",
       "      <td>295665</td>\n",
       "      <td>Macbook Pro Laptop</td>\n",
       "      <td>1</td>\n",
       "      <td>1700</td>\n",
       "      <td>12/30/19 00:01</td>\n",
       "      <td>136 Church St, New York City, NY 10001</td>\n",
       "    </tr>\n",
       "    <tr>\n",
       "      <td>1</td>\n",
       "      <td>295666</td>\n",
       "      <td>LG Washing Machine</td>\n",
       "      <td>1</td>\n",
       "      <td>600.0</td>\n",
       "      <td>12/29/19 07:03</td>\n",
       "      <td>562 2nd St, New York City, NY 10001</td>\n",
       "    </tr>\n",
       "    <tr>\n",
       "      <td>2</td>\n",
       "      <td>295667</td>\n",
       "      <td>USB-C Charging Cable</td>\n",
       "      <td>1</td>\n",
       "      <td>11.95</td>\n",
       "      <td>12/12/19 18:21</td>\n",
       "      <td>277 Main St, New York City, NY 10001</td>\n",
       "    </tr>\n",
       "    <tr>\n",
       "      <td>3</td>\n",
       "      <td>295668</td>\n",
       "      <td>27in FHD Monitor</td>\n",
       "      <td>1</td>\n",
       "      <td>149.99</td>\n",
       "      <td>12/22/19 15:13</td>\n",
       "      <td>410 6th St, San Francisco, CA 94016</td>\n",
       "    </tr>\n",
       "    <tr>\n",
       "      <td>4</td>\n",
       "      <td>295669</td>\n",
       "      <td>USB-C Charging Cable</td>\n",
       "      <td>1</td>\n",
       "      <td>11.95</td>\n",
       "      <td>12/18/19 12:38</td>\n",
       "      <td>43 Hill St, Atlanta, GA 30301</td>\n",
       "    </tr>\n",
       "    <tr>\n",
       "      <td>...</td>\n",
       "      <td>...</td>\n",
       "      <td>...</td>\n",
       "      <td>...</td>\n",
       "      <td>...</td>\n",
       "      <td>...</td>\n",
       "      <td>...</td>\n",
       "    </tr>\n",
       "    <tr>\n",
       "      <td>186845</td>\n",
       "      <td>222905</td>\n",
       "      <td>AAA Batteries (4-pack)</td>\n",
       "      <td>1</td>\n",
       "      <td>2.99</td>\n",
       "      <td>06/07/19 19:02</td>\n",
       "      <td>795 Pine St, Boston, MA 02215</td>\n",
       "    </tr>\n",
       "    <tr>\n",
       "      <td>186846</td>\n",
       "      <td>222906</td>\n",
       "      <td>27in FHD Monitor</td>\n",
       "      <td>1</td>\n",
       "      <td>149.99</td>\n",
       "      <td>06/01/19 19:29</td>\n",
       "      <td>495 North St, New York City, NY 10001</td>\n",
       "    </tr>\n",
       "    <tr>\n",
       "      <td>186847</td>\n",
       "      <td>222907</td>\n",
       "      <td>USB-C Charging Cable</td>\n",
       "      <td>1</td>\n",
       "      <td>11.95</td>\n",
       "      <td>06/22/19 18:57</td>\n",
       "      <td>319 Ridge St, San Francisco, CA 94016</td>\n",
       "    </tr>\n",
       "    <tr>\n",
       "      <td>186848</td>\n",
       "      <td>222908</td>\n",
       "      <td>USB-C Charging Cable</td>\n",
       "      <td>1</td>\n",
       "      <td>11.95</td>\n",
       "      <td>06/26/19 18:35</td>\n",
       "      <td>916 Main St, San Francisco, CA 94016</td>\n",
       "    </tr>\n",
       "    <tr>\n",
       "      <td>186849</td>\n",
       "      <td>222909</td>\n",
       "      <td>AAA Batteries (4-pack)</td>\n",
       "      <td>1</td>\n",
       "      <td>2.99</td>\n",
       "      <td>06/25/19 14:33</td>\n",
       "      <td>209 11th St, Atlanta, GA 30301</td>\n",
       "    </tr>\n",
       "  </tbody>\n",
       "</table>\n",
       "<p>186850 rows × 6 columns</p>\n",
       "</div>"
      ],
      "text/plain": [
       "       Order ID                 Product Quantity Ordered Price Each  \\\n",
       "0        295665      Macbook Pro Laptop                1       1700   \n",
       "1        295666      LG Washing Machine                1      600.0   \n",
       "2        295667    USB-C Charging Cable                1      11.95   \n",
       "3        295668        27in FHD Monitor                1     149.99   \n",
       "4        295669    USB-C Charging Cable                1      11.95   \n",
       "...         ...                     ...              ...        ...   \n",
       "186845   222905  AAA Batteries (4-pack)                1       2.99   \n",
       "186846   222906        27in FHD Monitor                1     149.99   \n",
       "186847   222907    USB-C Charging Cable                1      11.95   \n",
       "186848   222908    USB-C Charging Cable                1      11.95   \n",
       "186849   222909  AAA Batteries (4-pack)                1       2.99   \n",
       "\n",
       "            Order Date                        Purchase Address  \n",
       "0       12/30/19 00:01  136 Church St, New York City, NY 10001  \n",
       "1       12/29/19 07:03     562 2nd St, New York City, NY 10001  \n",
       "2       12/12/19 18:21    277 Main St, New York City, NY 10001  \n",
       "3       12/22/19 15:13     410 6th St, San Francisco, CA 94016  \n",
       "4       12/18/19 12:38           43 Hill St, Atlanta, GA 30301  \n",
       "...                ...                                     ...  \n",
       "186845  06/07/19 19:02           795 Pine St, Boston, MA 02215  \n",
       "186846  06/01/19 19:29   495 North St, New York City, NY 10001  \n",
       "186847  06/22/19 18:57   319 Ridge St, San Francisco, CA 94016  \n",
       "186848  06/26/19 18:35    916 Main St, San Francisco, CA 94016  \n",
       "186849  06/25/19 14:33          209 11th St, Atlanta, GA 30301  \n",
       "\n",
       "[186850 rows x 6 columns]"
      ]
     },
     "execution_count": 6,
     "metadata": {},
     "output_type": "execute_result"
    }
   ],
   "source": [
    "df"
   ]
  },
  {
   "cell_type": "code",
   "execution_count": 7,
   "metadata": {},
   "outputs": [
    {
     "data": {
      "text/html": [
       "<div>\n",
       "<style scoped>\n",
       "    .dataframe tbody tr th:only-of-type {\n",
       "        vertical-align: middle;\n",
       "    }\n",
       "\n",
       "    .dataframe tbody tr th {\n",
       "        vertical-align: top;\n",
       "    }\n",
       "\n",
       "    .dataframe thead th {\n",
       "        text-align: right;\n",
       "    }\n",
       "</style>\n",
       "<table border=\"1\" class=\"dataframe\">\n",
       "  <thead>\n",
       "    <tr style=\"text-align: right;\">\n",
       "      <th></th>\n",
       "      <th>Order ID</th>\n",
       "      <th>Product</th>\n",
       "      <th>Quantity Ordered</th>\n",
       "      <th>Price Each</th>\n",
       "      <th>Order Date</th>\n",
       "      <th>Purchase Address</th>\n",
       "    </tr>\n",
       "  </thead>\n",
       "  <tbody>\n",
       "    <tr>\n",
       "      <td>0</td>\n",
       "      <td>295665</td>\n",
       "      <td>Macbook Pro Laptop</td>\n",
       "      <td>1</td>\n",
       "      <td>1700</td>\n",
       "      <td>12/30/19 00:01</td>\n",
       "      <td>136 Church St, New York City, NY 10001</td>\n",
       "    </tr>\n",
       "    <tr>\n",
       "      <td>1</td>\n",
       "      <td>295666</td>\n",
       "      <td>LG Washing Machine</td>\n",
       "      <td>1</td>\n",
       "      <td>600.0</td>\n",
       "      <td>12/29/19 07:03</td>\n",
       "      <td>562 2nd St, New York City, NY 10001</td>\n",
       "    </tr>\n",
       "    <tr>\n",
       "      <td>2</td>\n",
       "      <td>295667</td>\n",
       "      <td>USB-C Charging Cable</td>\n",
       "      <td>1</td>\n",
       "      <td>11.95</td>\n",
       "      <td>12/12/19 18:21</td>\n",
       "      <td>277 Main St, New York City, NY 10001</td>\n",
       "    </tr>\n",
       "    <tr>\n",
       "      <td>3</td>\n",
       "      <td>295668</td>\n",
       "      <td>27in FHD Monitor</td>\n",
       "      <td>1</td>\n",
       "      <td>149.99</td>\n",
       "      <td>12/22/19 15:13</td>\n",
       "      <td>410 6th St, San Francisco, CA 94016</td>\n",
       "    </tr>\n",
       "    <tr>\n",
       "      <td>4</td>\n",
       "      <td>295669</td>\n",
       "      <td>USB-C Charging Cable</td>\n",
       "      <td>1</td>\n",
       "      <td>11.95</td>\n",
       "      <td>12/18/19 12:38</td>\n",
       "      <td>43 Hill St, Atlanta, GA 30301</td>\n",
       "    </tr>\n",
       "  </tbody>\n",
       "</table>\n",
       "</div>"
      ],
      "text/plain": [
       "  Order ID               Product Quantity Ordered Price Each      Order Date  \\\n",
       "0   295665    Macbook Pro Laptop                1       1700  12/30/19 00:01   \n",
       "1   295666    LG Washing Machine                1      600.0  12/29/19 07:03   \n",
       "2   295667  USB-C Charging Cable                1      11.95  12/12/19 18:21   \n",
       "3   295668      27in FHD Monitor                1     149.99  12/22/19 15:13   \n",
       "4   295669  USB-C Charging Cable                1      11.95  12/18/19 12:38   \n",
       "\n",
       "                         Purchase Address  \n",
       "0  136 Church St, New York City, NY 10001  \n",
       "1     562 2nd St, New York City, NY 10001  \n",
       "2    277 Main St, New York City, NY 10001  \n",
       "3     410 6th St, San Francisco, CA 94016  \n",
       "4           43 Hill St, Atlanta, GA 30301  "
      ]
     },
     "execution_count": 7,
     "metadata": {},
     "output_type": "execute_result"
    }
   ],
   "source": [
    "df.head()\n"
   ]
  },
  {
   "cell_type": "code",
   "execution_count": 8,
   "metadata": {},
   "outputs": [
    {
     "data": {
      "text/html": [
       "<div>\n",
       "<style scoped>\n",
       "    .dataframe tbody tr th:only-of-type {\n",
       "        vertical-align: middle;\n",
       "    }\n",
       "\n",
       "    .dataframe tbody tr th {\n",
       "        vertical-align: top;\n",
       "    }\n",
       "\n",
       "    .dataframe thead th {\n",
       "        text-align: right;\n",
       "    }\n",
       "</style>\n",
       "<table border=\"1\" class=\"dataframe\">\n",
       "  <thead>\n",
       "    <tr style=\"text-align: right;\">\n",
       "      <th></th>\n",
       "      <th>Order ID</th>\n",
       "      <th>Product</th>\n",
       "      <th>Quantity Ordered</th>\n",
       "      <th>Price Each</th>\n",
       "      <th>Order Date</th>\n",
       "      <th>Purchase Address</th>\n",
       "    </tr>\n",
       "  </thead>\n",
       "  <tbody>\n",
       "    <tr>\n",
       "      <td>186845</td>\n",
       "      <td>222905</td>\n",
       "      <td>AAA Batteries (4-pack)</td>\n",
       "      <td>1</td>\n",
       "      <td>2.99</td>\n",
       "      <td>06/07/19 19:02</td>\n",
       "      <td>795 Pine St, Boston, MA 02215</td>\n",
       "    </tr>\n",
       "    <tr>\n",
       "      <td>186846</td>\n",
       "      <td>222906</td>\n",
       "      <td>27in FHD Monitor</td>\n",
       "      <td>1</td>\n",
       "      <td>149.99</td>\n",
       "      <td>06/01/19 19:29</td>\n",
       "      <td>495 North St, New York City, NY 10001</td>\n",
       "    </tr>\n",
       "    <tr>\n",
       "      <td>186847</td>\n",
       "      <td>222907</td>\n",
       "      <td>USB-C Charging Cable</td>\n",
       "      <td>1</td>\n",
       "      <td>11.95</td>\n",
       "      <td>06/22/19 18:57</td>\n",
       "      <td>319 Ridge St, San Francisco, CA 94016</td>\n",
       "    </tr>\n",
       "    <tr>\n",
       "      <td>186848</td>\n",
       "      <td>222908</td>\n",
       "      <td>USB-C Charging Cable</td>\n",
       "      <td>1</td>\n",
       "      <td>11.95</td>\n",
       "      <td>06/26/19 18:35</td>\n",
       "      <td>916 Main St, San Francisco, CA 94016</td>\n",
       "    </tr>\n",
       "    <tr>\n",
       "      <td>186849</td>\n",
       "      <td>222909</td>\n",
       "      <td>AAA Batteries (4-pack)</td>\n",
       "      <td>1</td>\n",
       "      <td>2.99</td>\n",
       "      <td>06/25/19 14:33</td>\n",
       "      <td>209 11th St, Atlanta, GA 30301</td>\n",
       "    </tr>\n",
       "  </tbody>\n",
       "</table>\n",
       "</div>"
      ],
      "text/plain": [
       "       Order ID                 Product Quantity Ordered Price Each  \\\n",
       "186845   222905  AAA Batteries (4-pack)                1       2.99   \n",
       "186846   222906        27in FHD Monitor                1     149.99   \n",
       "186847   222907    USB-C Charging Cable                1      11.95   \n",
       "186848   222908    USB-C Charging Cable                1      11.95   \n",
       "186849   222909  AAA Batteries (4-pack)                1       2.99   \n",
       "\n",
       "            Order Date                       Purchase Address  \n",
       "186845  06/07/19 19:02          795 Pine St, Boston, MA 02215  \n",
       "186846  06/01/19 19:29  495 North St, New York City, NY 10001  \n",
       "186847  06/22/19 18:57  319 Ridge St, San Francisco, CA 94016  \n",
       "186848  06/26/19 18:35   916 Main St, San Francisco, CA 94016  \n",
       "186849  06/25/19 14:33         209 11th St, Atlanta, GA 30301  "
      ]
     },
     "execution_count": 8,
     "metadata": {},
     "output_type": "execute_result"
    }
   ],
   "source": [
    "df.tail()"
   ]
  },
  {
   "cell_type": "code",
   "execution_count": 9,
   "metadata": {},
   "outputs": [
    {
     "data": {
      "text/plain": [
       "(186850, 6)"
      ]
     },
     "execution_count": 9,
     "metadata": {},
     "output_type": "execute_result"
    }
   ],
   "source": [
    "df.shape"
   ]
  },
  {
   "cell_type": "code",
   "execution_count": 10,
   "metadata": {},
   "outputs": [
    {
     "name": "stdout",
     "output_type": "stream",
     "text": [
      "<class 'pandas.core.frame.DataFrame'>\n",
      "RangeIndex: 186850 entries, 0 to 186849\n",
      "Data columns (total 6 columns):\n",
      "Order ID            186305 non-null object\n",
      "Product             186305 non-null object\n",
      "Quantity Ordered    186305 non-null object\n",
      "Price Each          186305 non-null object\n",
      "Order Date          186305 non-null object\n",
      "Purchase Address    186305 non-null object\n",
      "dtypes: object(6)\n",
      "memory usage: 8.6+ MB\n"
     ]
    }
   ],
   "source": [
    "df.info()"
   ]
  },
  {
   "cell_type": "code",
   "execution_count": 11,
   "metadata": {},
   "outputs": [],
   "source": [
    "mask=df['Order Date'] != 'Order Date'\n",
    "OrderDate=df[mask]['Order Date'] \n"
   ]
  },
  {
   "cell_type": "code",
   "execution_count": 12,
   "metadata": {},
   "outputs": [],
   "source": [
    "df['mois']=OrderDate.str[:2]"
   ]
  },
  {
   "cell_type": "code",
   "execution_count": 13,
   "metadata": {},
   "outputs": [
    {
     "data": {
      "text/plain": [
       "0         12\n",
       "1         12\n",
       "2         12\n",
       "3         12\n",
       "4         12\n",
       "          ..\n",
       "186845    06\n",
       "186846    06\n",
       "186847    06\n",
       "186848    06\n",
       "186849    06\n",
       "Name: mois, Length: 186850, dtype: object"
      ]
     },
     "execution_count": 13,
     "metadata": {},
     "output_type": "execute_result"
    }
   ],
   "source": [
    "df['mois']"
   ]
  },
  {
   "cell_type": "code",
   "execution_count": 14,
   "metadata": {},
   "outputs": [
    {
     "data": {
      "text/html": [
       "<div>\n",
       "<style scoped>\n",
       "    .dataframe tbody tr th:only-of-type {\n",
       "        vertical-align: middle;\n",
       "    }\n",
       "\n",
       "    .dataframe tbody tr th {\n",
       "        vertical-align: top;\n",
       "    }\n",
       "\n",
       "    .dataframe thead th {\n",
       "        text-align: right;\n",
       "    }\n",
       "</style>\n",
       "<table border=\"1\" class=\"dataframe\">\n",
       "  <thead>\n",
       "    <tr style=\"text-align: right;\">\n",
       "      <th></th>\n",
       "      <th>Order ID</th>\n",
       "      <th>Product</th>\n",
       "      <th>Quantity Ordered</th>\n",
       "      <th>Price Each</th>\n",
       "      <th>Order Date</th>\n",
       "      <th>Purchase Address</th>\n",
       "      <th>mois</th>\n",
       "    </tr>\n",
       "  </thead>\n",
       "  <tbody>\n",
       "    <tr>\n",
       "      <td>0</td>\n",
       "      <td>295665</td>\n",
       "      <td>Macbook Pro Laptop</td>\n",
       "      <td>1</td>\n",
       "      <td>1700</td>\n",
       "      <td>12/30/19 00:01</td>\n",
       "      <td>136 Church St, New York City, NY 10001</td>\n",
       "      <td>12</td>\n",
       "    </tr>\n",
       "    <tr>\n",
       "      <td>1</td>\n",
       "      <td>295666</td>\n",
       "      <td>LG Washing Machine</td>\n",
       "      <td>1</td>\n",
       "      <td>600.0</td>\n",
       "      <td>12/29/19 07:03</td>\n",
       "      <td>562 2nd St, New York City, NY 10001</td>\n",
       "      <td>12</td>\n",
       "    </tr>\n",
       "    <tr>\n",
       "      <td>2</td>\n",
       "      <td>295667</td>\n",
       "      <td>USB-C Charging Cable</td>\n",
       "      <td>1</td>\n",
       "      <td>11.95</td>\n",
       "      <td>12/12/19 18:21</td>\n",
       "      <td>277 Main St, New York City, NY 10001</td>\n",
       "      <td>12</td>\n",
       "    </tr>\n",
       "    <tr>\n",
       "      <td>3</td>\n",
       "      <td>295668</td>\n",
       "      <td>27in FHD Monitor</td>\n",
       "      <td>1</td>\n",
       "      <td>149.99</td>\n",
       "      <td>12/22/19 15:13</td>\n",
       "      <td>410 6th St, San Francisco, CA 94016</td>\n",
       "      <td>12</td>\n",
       "    </tr>\n",
       "    <tr>\n",
       "      <td>4</td>\n",
       "      <td>295669</td>\n",
       "      <td>USB-C Charging Cable</td>\n",
       "      <td>1</td>\n",
       "      <td>11.95</td>\n",
       "      <td>12/18/19 12:38</td>\n",
       "      <td>43 Hill St, Atlanta, GA 30301</td>\n",
       "      <td>12</td>\n",
       "    </tr>\n",
       "  </tbody>\n",
       "</table>\n",
       "</div>"
      ],
      "text/plain": [
       "  Order ID               Product Quantity Ordered Price Each      Order Date  \\\n",
       "0   295665    Macbook Pro Laptop                1       1700  12/30/19 00:01   \n",
       "1   295666    LG Washing Machine                1      600.0  12/29/19 07:03   \n",
       "2   295667  USB-C Charging Cable                1      11.95  12/12/19 18:21   \n",
       "3   295668      27in FHD Monitor                1     149.99  12/22/19 15:13   \n",
       "4   295669  USB-C Charging Cable                1      11.95  12/18/19 12:38   \n",
       "\n",
       "                         Purchase Address mois  \n",
       "0  136 Church St, New York City, NY 10001   12  \n",
       "1     562 2nd St, New York City, NY 10001   12  \n",
       "2    277 Main St, New York City, NY 10001   12  \n",
       "3     410 6th St, San Francisco, CA 94016   12  \n",
       "4           43 Hill St, Atlanta, GA 30301   12  "
      ]
     },
     "execution_count": 14,
     "metadata": {},
     "output_type": "execute_result"
    }
   ],
   "source": [
    "df.head()"
   ]
  },
  {
   "cell_type": "code",
   "execution_count": 15,
   "metadata": {},
   "outputs": [],
   "source": [
    "df.dropna(subset=['mois'], inplace=True)"
   ]
  },
  {
   "cell_type": "code",
   "execution_count": 16,
   "metadata": {},
   "outputs": [
    {
     "data": {
      "text/plain": [
       "0         12\n",
       "1         12\n",
       "2         12\n",
       "3         12\n",
       "4         12\n",
       "          ..\n",
       "186845     6\n",
       "186846     6\n",
       "186847     6\n",
       "186848     6\n",
       "186849     6\n",
       "Name: mois, Length: 185950, dtype: int32"
      ]
     },
     "execution_count": 16,
     "metadata": {},
     "output_type": "execute_result"
    }
   ],
   "source": [
    "df['mois'].astype('int')"
   ]
  },
  {
   "cell_type": "code",
   "execution_count": 17,
   "metadata": {},
   "outputs": [
    {
     "data": {
      "text/plain": [
       "array(['12', '01', '04', '05', '02', '03', '08', '09', '06', '11', '10',\n",
       "       '07'], dtype=object)"
      ]
     },
     "execution_count": 17,
     "metadata": {},
     "output_type": "execute_result"
    }
   ],
   "source": [
    "df['mois'].unique()"
   ]
  },
  {
   "cell_type": "code",
   "execution_count": 51,
   "metadata": {},
   "outputs": [],
   "source": [
    "df['Quantity Ordered']=df['Quantity Ordered'].astype(int)"
   ]
  },
  {
   "cell_type": "code",
   "execution_count": 52,
   "metadata": {},
   "outputs": [],
   "source": [
    "df['Price Each']=df['Price Each'].astype(float)"
   ]
  },
  {
   "cell_type": "code",
   "execution_count": 53,
   "metadata": {},
   "outputs": [],
   "source": [
    "df['global']=df['Quantity Ordered']*df['Price Each']"
   ]
  },
  {
   "cell_type": "code",
   "execution_count": 29,
   "metadata": {},
   "outputs": [
    {
     "data": {
      "text/html": [
       "<div>\n",
       "<style scoped>\n",
       "    .dataframe tbody tr th:only-of-type {\n",
       "        vertical-align: middle;\n",
       "    }\n",
       "\n",
       "    .dataframe tbody tr th {\n",
       "        vertical-align: top;\n",
       "    }\n",
       "\n",
       "    .dataframe thead th {\n",
       "        text-align: right;\n",
       "    }\n",
       "</style>\n",
       "<table border=\"1\" class=\"dataframe\">\n",
       "  <thead>\n",
       "    <tr style=\"text-align: right;\">\n",
       "      <th></th>\n",
       "      <th>Order ID</th>\n",
       "      <th>Product</th>\n",
       "      <th>Quantity Ordered</th>\n",
       "      <th>Price Each</th>\n",
       "      <th>Order Date</th>\n",
       "      <th>Purchase Address</th>\n",
       "      <th>mois</th>\n",
       "      <th>global</th>\n",
       "    </tr>\n",
       "  </thead>\n",
       "  <tbody>\n",
       "    <tr>\n",
       "      <td>0</td>\n",
       "      <td>295665</td>\n",
       "      <td>Macbook Pro Laptop</td>\n",
       "      <td>1</td>\n",
       "      <td>1700.00</td>\n",
       "      <td>12/30/19 00:01</td>\n",
       "      <td>136 Church St, New York City, NY 10001</td>\n",
       "      <td>12</td>\n",
       "      <td>1700.00</td>\n",
       "    </tr>\n",
       "    <tr>\n",
       "      <td>1</td>\n",
       "      <td>295666</td>\n",
       "      <td>LG Washing Machine</td>\n",
       "      <td>1</td>\n",
       "      <td>600.00</td>\n",
       "      <td>12/29/19 07:03</td>\n",
       "      <td>562 2nd St, New York City, NY 10001</td>\n",
       "      <td>12</td>\n",
       "      <td>600.00</td>\n",
       "    </tr>\n",
       "    <tr>\n",
       "      <td>2</td>\n",
       "      <td>295667</td>\n",
       "      <td>USB-C Charging Cable</td>\n",
       "      <td>1</td>\n",
       "      <td>11.95</td>\n",
       "      <td>12/12/19 18:21</td>\n",
       "      <td>277 Main St, New York City, NY 10001</td>\n",
       "      <td>12</td>\n",
       "      <td>11.95</td>\n",
       "    </tr>\n",
       "    <tr>\n",
       "      <td>3</td>\n",
       "      <td>295668</td>\n",
       "      <td>27in FHD Monitor</td>\n",
       "      <td>1</td>\n",
       "      <td>149.99</td>\n",
       "      <td>12/22/19 15:13</td>\n",
       "      <td>410 6th St, San Francisco, CA 94016</td>\n",
       "      <td>12</td>\n",
       "      <td>149.99</td>\n",
       "    </tr>\n",
       "    <tr>\n",
       "      <td>4</td>\n",
       "      <td>295669</td>\n",
       "      <td>USB-C Charging Cable</td>\n",
       "      <td>1</td>\n",
       "      <td>11.95</td>\n",
       "      <td>12/18/19 12:38</td>\n",
       "      <td>43 Hill St, Atlanta, GA 30301</td>\n",
       "      <td>12</td>\n",
       "      <td>11.95</td>\n",
       "    </tr>\n",
       "    <tr>\n",
       "      <td>...</td>\n",
       "      <td>...</td>\n",
       "      <td>...</td>\n",
       "      <td>...</td>\n",
       "      <td>...</td>\n",
       "      <td>...</td>\n",
       "      <td>...</td>\n",
       "      <td>...</td>\n",
       "      <td>...</td>\n",
       "    </tr>\n",
       "    <tr>\n",
       "      <td>186845</td>\n",
       "      <td>222905</td>\n",
       "      <td>AAA Batteries (4-pack)</td>\n",
       "      <td>1</td>\n",
       "      <td>2.99</td>\n",
       "      <td>06/07/19 19:02</td>\n",
       "      <td>795 Pine St, Boston, MA 02215</td>\n",
       "      <td>06</td>\n",
       "      <td>2.99</td>\n",
       "    </tr>\n",
       "    <tr>\n",
       "      <td>186846</td>\n",
       "      <td>222906</td>\n",
       "      <td>27in FHD Monitor</td>\n",
       "      <td>1</td>\n",
       "      <td>149.99</td>\n",
       "      <td>06/01/19 19:29</td>\n",
       "      <td>495 North St, New York City, NY 10001</td>\n",
       "      <td>06</td>\n",
       "      <td>149.99</td>\n",
       "    </tr>\n",
       "    <tr>\n",
       "      <td>186847</td>\n",
       "      <td>222907</td>\n",
       "      <td>USB-C Charging Cable</td>\n",
       "      <td>1</td>\n",
       "      <td>11.95</td>\n",
       "      <td>06/22/19 18:57</td>\n",
       "      <td>319 Ridge St, San Francisco, CA 94016</td>\n",
       "      <td>06</td>\n",
       "      <td>11.95</td>\n",
       "    </tr>\n",
       "    <tr>\n",
       "      <td>186848</td>\n",
       "      <td>222908</td>\n",
       "      <td>USB-C Charging Cable</td>\n",
       "      <td>1</td>\n",
       "      <td>11.95</td>\n",
       "      <td>06/26/19 18:35</td>\n",
       "      <td>916 Main St, San Francisco, CA 94016</td>\n",
       "      <td>06</td>\n",
       "      <td>11.95</td>\n",
       "    </tr>\n",
       "    <tr>\n",
       "      <td>186849</td>\n",
       "      <td>222909</td>\n",
       "      <td>AAA Batteries (4-pack)</td>\n",
       "      <td>1</td>\n",
       "      <td>2.99</td>\n",
       "      <td>06/25/19 14:33</td>\n",
       "      <td>209 11th St, Atlanta, GA 30301</td>\n",
       "      <td>06</td>\n",
       "      <td>2.99</td>\n",
       "    </tr>\n",
       "  </tbody>\n",
       "</table>\n",
       "<p>185950 rows × 8 columns</p>\n",
       "</div>"
      ],
      "text/plain": [
       "       Order ID                 Product  Quantity Ordered  Price Each  \\\n",
       "0        295665      Macbook Pro Laptop                 1     1700.00   \n",
       "1        295666      LG Washing Machine                 1      600.00   \n",
       "2        295667    USB-C Charging Cable                 1       11.95   \n",
       "3        295668        27in FHD Monitor                 1      149.99   \n",
       "4        295669    USB-C Charging Cable                 1       11.95   \n",
       "...         ...                     ...               ...         ...   \n",
       "186845   222905  AAA Batteries (4-pack)                 1        2.99   \n",
       "186846   222906        27in FHD Monitor                 1      149.99   \n",
       "186847   222907    USB-C Charging Cable                 1       11.95   \n",
       "186848   222908    USB-C Charging Cable                 1       11.95   \n",
       "186849   222909  AAA Batteries (4-pack)                 1        2.99   \n",
       "\n",
       "            Order Date                        Purchase Address mois   global  \n",
       "0       12/30/19 00:01  136 Church St, New York City, NY 10001   12  1700.00  \n",
       "1       12/29/19 07:03     562 2nd St, New York City, NY 10001   12   600.00  \n",
       "2       12/12/19 18:21    277 Main St, New York City, NY 10001   12    11.95  \n",
       "3       12/22/19 15:13     410 6th St, San Francisco, CA 94016   12   149.99  \n",
       "4       12/18/19 12:38           43 Hill St, Atlanta, GA 30301   12    11.95  \n",
       "...                ...                                     ...  ...      ...  \n",
       "186845  06/07/19 19:02           795 Pine St, Boston, MA 02215   06     2.99  \n",
       "186846  06/01/19 19:29   495 North St, New York City, NY 10001   06   149.99  \n",
       "186847  06/22/19 18:57   319 Ridge St, San Francisco, CA 94016   06    11.95  \n",
       "186848  06/26/19 18:35    916 Main St, San Francisco, CA 94016   06    11.95  \n",
       "186849  06/25/19 14:33          209 11th St, Atlanta, GA 30301   06     2.99  \n",
       "\n",
       "[185950 rows x 8 columns]"
      ]
     },
     "execution_count": 29,
     "metadata": {},
     "output_type": "execute_result"
    }
   ],
   "source": [
    "df"
   ]
  },
  {
   "cell_type": "code",
   "execution_count": 37,
   "metadata": {},
   "outputs": [],
   "source": [
    "Qaantite=df.groupby('mois')['global'].sum()"
   ]
  },
  {
   "cell_type": "code",
   "execution_count": 46,
   "metadata": {},
   "outputs": [
    {
     "data": {
      "text/plain": [
       "mois\n",
       "01    1.822257e+06\n",
       "02    2.202022e+06\n",
       "03    2.807100e+06\n",
       "04    3.390670e+06\n",
       "05    3.152607e+06\n",
       "06    2.577802e+06\n",
       "07    2.647776e+06\n",
       "08    2.244468e+06\n",
       "09    2.097560e+06\n",
       "10    3.736727e+06\n",
       "11    3.199603e+06\n",
       "12    4.613443e+06\n",
       "Name: global, dtype: float64"
      ]
     },
     "execution_count": 46,
     "metadata": {},
     "output_type": "execute_result"
    }
   ],
   "source": [
    "Qaantite"
   ]
  },
  {
   "cell_type": "code",
   "execution_count": 49,
   "metadata": {},
   "outputs": [
    {
     "data": {
      "text/plain": [
       "4613443.340001534"
      ]
     },
     "execution_count": 49,
     "metadata": {},
     "output_type": "execute_result"
    }
   ],
   "source": [
    "Qaantite.max()"
   ]
  },
  {
   "cell_type": "code",
   "execution_count": 50,
   "metadata": {},
   "outputs": [
    {
     "data": {
      "text/plain": [
       "<BarContainer object of 12 artists>"
      ]
     },
     "execution_count": 50,
     "metadata": {},
     "output_type": "execute_result"
    },
    {
     "data": {
      "image/png": "[encoded data removed]",
      "text/plain": [
       "<Figure size 432x288 with 1 Axes>"
      ]
     },
     "metadata": {
      "needs_background": "light"
     },
     "output_type": "display_data"
    }
   ],
   "source": [
    "plt.bar(range(1,13), Qaantite)"
   ]
  },
  {
   "cell_type": "code",
   "execution_count": 59,
   "metadata": {},
   "outputs": [
    {
     "data": {
      "text/plain": [
       "['136 Church St', ' New York City', ' NY 10001']"
      ]
     },
     "execution_count": 59,
     "metadata": {},
     "output_type": "execute_result"
    }
   ],
   "source": [
    "df.loc[0,'Purchase Address'].split(',')"
   ]
  },
  {
   "cell_type": "code",
   "execution_count": 61,
   "metadata": {},
   "outputs": [],
   "source": [
    "df['ville']=df['Purchase Address'].apply(lambda x:x.split(',')[1])"
   ]
  },
  {
   "cell_type": "code",
   "execution_count": 62,
   "metadata": {},
   "outputs": [
    {
     "data": {
      "text/plain": [
       "0          New York City\n",
       "1          New York City\n",
       "2          New York City\n",
       "3          San Francisco\n",
       "4                Atlanta\n",
       "               ...      \n",
       "186845            Boston\n",
       "186846     New York City\n",
       "186847     San Francisco\n",
       "186848     San Francisco\n",
       "186849           Atlanta\n",
       "Name: ville, Length: 185950, dtype: object"
      ]
     },
     "execution_count": 62,
     "metadata": {},
     "output_type": "execute_result"
    }
   ],
   "source": [
    "df['ville']"
   ]
  },
  {
   "cell_type": "code",
   "execution_count": 63,
   "metadata": {},
   "outputs": [
    {
     "data": {
      "text/html": [
       "<div>\n",
       "<style scoped>\n",
       "    .dataframe tbody tr th:only-of-type {\n",
       "        vertical-align: middle;\n",
       "    }\n",
       "\n",
       "    .dataframe tbody tr th {\n",
       "        vertical-align: top;\n",
       "    }\n",
       "\n",
       "    .dataframe thead th {\n",
       "        text-align: right;\n",
       "    }\n",
       "</style>\n",
       "<table border=\"1\" class=\"dataframe\">\n",
       "  <thead>\n",
       "    <tr style=\"text-align: right;\">\n",
       "      <th></th>\n",
       "      <th>Order ID</th>\n",
       "      <th>Product</th>\n",
       "      <th>Quantity Ordered</th>\n",
       "      <th>Price Each</th>\n",
       "      <th>Order Date</th>\n",
       "      <th>Purchase Address</th>\n",
       "      <th>mois</th>\n",
       "      <th>global</th>\n",
       "      <th>ville</th>\n",
       "    </tr>\n",
       "  </thead>\n",
       "  <tbody>\n",
       "    <tr>\n",
       "      <td>0</td>\n",
       "      <td>295665</td>\n",
       "      <td>Macbook Pro Laptop</td>\n",
       "      <td>1</td>\n",
       "      <td>1700.00</td>\n",
       "      <td>12/30/19 00:01</td>\n",
       "      <td>136 Church St, New York City, NY 10001</td>\n",
       "      <td>12</td>\n",
       "      <td>1700.00</td>\n",
       "      <td>New York City</td>\n",
       "    </tr>\n",
       "    <tr>\n",
       "      <td>1</td>\n",
       "      <td>295666</td>\n",
       "      <td>LG Washing Machine</td>\n",
       "      <td>1</td>\n",
       "      <td>600.00</td>\n",
       "      <td>12/29/19 07:03</td>\n",
       "      <td>562 2nd St, New York City, NY 10001</td>\n",
       "      <td>12</td>\n",
       "      <td>600.00</td>\n",
       "      <td>New York City</td>\n",
       "    </tr>\n",
       "    <tr>\n",
       "      <td>2</td>\n",
       "      <td>295667</td>\n",
       "      <td>USB-C Charging Cable</td>\n",
       "      <td>1</td>\n",
       "      <td>11.95</td>\n",
       "      <td>12/12/19 18:21</td>\n",
       "      <td>277 Main St, New York City, NY 10001</td>\n",
       "      <td>12</td>\n",
       "      <td>11.95</td>\n",
       "      <td>New York City</td>\n",
       "    </tr>\n",
       "    <tr>\n",
       "      <td>3</td>\n",
       "      <td>295668</td>\n",
       "      <td>27in FHD Monitor</td>\n",
       "      <td>1</td>\n",
       "      <td>149.99</td>\n",
       "      <td>12/22/19 15:13</td>\n",
       "      <td>410 6th St, San Francisco, CA 94016</td>\n",
       "      <td>12</td>\n",
       "      <td>149.99</td>\n",
       "      <td>San Francisco</td>\n",
       "    </tr>\n",
       "    <tr>\n",
       "      <td>4</td>\n",
       "      <td>295669</td>\n",
       "      <td>USB-C Charging Cable</td>\n",
       "      <td>1</td>\n",
       "      <td>11.95</td>\n",
       "      <td>12/18/19 12:38</td>\n",
       "      <td>43 Hill St, Atlanta, GA 30301</td>\n",
       "      <td>12</td>\n",
       "      <td>11.95</td>\n",
       "      <td>Atlanta</td>\n",
       "    </tr>\n",
       "    <tr>\n",
       "      <td>...</td>\n",
       "      <td>...</td>\n",
       "      <td>...</td>\n",
       "      <td>...</td>\n",
       "      <td>...</td>\n",
       "      <td>...</td>\n",
       "      <td>...</td>\n",
       "      <td>...</td>\n",
       "      <td>...</td>\n",
       "      <td>...</td>\n",
       "    </tr>\n",
       "    <tr>\n",
       "      <td>186845</td>\n",
       "      <td>222905</td>\n",
       "      <td>AAA Batteries (4-pack)</td>\n",
       "      <td>1</td>\n",
       "      <td>2.99</td>\n",
       "      <td>06/07/19 19:02</td>\n",
       "      <td>795 Pine St, Boston, MA 02215</td>\n",
       "      <td>06</td>\n",
       "      <td>2.99</td>\n",
       "      <td>Boston</td>\n",
       "    </tr>\n",
       "    <tr>\n",
       "      <td>186846</td>\n",
       "      <td>222906</td>\n",
       "      <td>27in FHD Monitor</td>\n",
       "      <td>1</td>\n",
       "      <td>149.99</td>\n",
       "      <td>06/01/19 19:29</td>\n",
       "      <td>495 North St, New York City, NY 10001</td>\n",
       "      <td>06</td>\n",
       "      <td>149.99</td>\n",
       "      <td>New York City</td>\n",
       "    </tr>\n",
       "    <tr>\n",
       "      <td>186847</td>\n",
       "      <td>222907</td>\n",
       "      <td>USB-C Charging Cable</td>\n",
       "      <td>1</td>\n",
       "      <td>11.95</td>\n",
       "      <td>06/22/19 18:57</td>\n",
       "      <td>319 Ridge St, San Francisco, CA 94016</td>\n",
       "      <td>06</td>\n",
       "      <td>11.95</td>\n",
       "      <td>San Francisco</td>\n",
       "    </tr>\n",
       "    <tr>\n",
       "      <td>186848</td>\n",
       "      <td>222908</td>\n",
       "      <td>USB-C Charging Cable</td>\n",
       "      <td>1</td>\n",
       "      <td>11.95</td>\n",
       "      <td>06/26/19 18:35</td>\n",
       "      <td>916 Main St, San Francisco, CA 94016</td>\n",
       "      <td>06</td>\n",
       "      <td>11.95</td>\n",
       "      <td>San Francisco</td>\n",
       "    </tr>\n",
       "    <tr>\n",
       "      <td>186849</td>\n",
       "      <td>222909</td>\n",
       "      <td>AAA Batteries (4-pack)</td>\n",
       "      <td>1</td>\n",
       "      <td>2.99</td>\n",
       "      <td>06/25/19 14:33</td>\n",
       "      <td>209 11th St, Atlanta, GA 30301</td>\n",
       "      <td>06</td>\n",
       "      <td>2.99</td>\n",
       "      <td>Atlanta</td>\n",
       "    </tr>\n",
       "  </tbody>\n",
       "</table>\n",
       "<p>185950 rows × 9 columns</p>\n",
       "</div>"
      ],
      "text/plain": [
       "       Order ID                 Product  Quantity Ordered  Price Each  \\\n",
       "0        295665      Macbook Pro Laptop                 1     1700.00   \n",
       "1        295666      LG Washing Machine                 1      600.00   \n",
       "2        295667    USB-C Charging Cable                 1       11.95   \n",
       "3        295668        27in FHD Monitor                 1      149.99   \n",
       "4        295669    USB-C Charging Cable                 1       11.95   \n",
       "...         ...                     ...               ...         ...   \n",
       "186845   222905  AAA Batteries (4-pack)                 1        2.99   \n",
       "186846   222906        27in FHD Monitor                 1      149.99   \n",
       "186847   222907    USB-C Charging Cable                 1       11.95   \n",
       "186848   222908    USB-C Charging Cable                 1       11.95   \n",
       "186849   222909  AAA Batteries (4-pack)                 1        2.99   \n",
       "\n",
       "            Order Date                        Purchase Address mois   global  \\\n",
       "0       12/30/19 00:01  136 Church St, New York City, NY 10001   12  1700.00   \n",
       "1       12/29/19 07:03     562 2nd St, New York City, NY 10001   12   600.00   \n",
       "2       12/12/19 18:21    277 Main St, New York City, NY 10001   12    11.95   \n",
       "3       12/22/19 15:13     410 6th St, San Francisco, CA 94016   12   149.99   \n",
       "4       12/18/19 12:38           43 Hill St, Atlanta, GA 30301   12    11.95   \n",
       "...                ...                                     ...  ...      ...   \n",
       "186845  06/07/19 19:02           795 Pine St, Boston, MA 02215   06     2.99   \n",
       "186846  06/01/19 19:29   495 North St, New York City, NY 10001   06   149.99   \n",
       "186847  06/22/19 18:57   319 Ridge St, San Francisco, CA 94016   06    11.95   \n",
       "186848  06/26/19 18:35    916 Main St, San Francisco, CA 94016   06    11.95   \n",
       "186849  06/25/19 14:33          209 11th St, Atlanta, GA 30301   06     2.99   \n",
       "\n",
       "                 ville  \n",
       "0        New York City  \n",
       "1        New York City  \n",
       "2        New York City  \n",
       "3        San Francisco  \n",
       "4              Atlanta  \n",
       "...                ...  \n",
       "186845          Boston  \n",
       "186846   New York City  \n",
       "186847   San Francisco  \n",
       "186848   San Francisco  \n",
       "186849         Atlanta  \n",
       "\n",
       "[185950 rows x 9 columns]"
      ]
     },
     "execution_count": 63,
     "metadata": {},
     "output_type": "execute_result"
    }
   ],
   "source": [
    "df"
   ]
  },
  {
   "cell_type": "code",
   "execution_count": 66,
   "metadata": {},
   "outputs": [],
   "source": [
    "Ville=df.groupby('ville')['Quantity Ordered'].sum()"
   ]
  },
  {
   "cell_type": "code",
   "execution_count": 67,
   "metadata": {},
   "outputs": [
    {
     "data": {
      "text/plain": [
       "ville\n",
       " Atlanta          16602\n",
       " Austin           11153\n",
       " Boston           22528\n",
       " Dallas           16730\n",
       " Los Angeles      33289\n",
       " New York City    27932\n",
       " Portland         14053\n",
       " San Francisco    50239\n",
       " Seattle          16553\n",
       "Name: Quantity Ordered, dtype: int32"
      ]
     },
     "execution_count": 67,
     "metadata": {},
     "output_type": "execute_result"
    }
   ],
   "source": [
    "Ville"
   ]
  },
  {
   "cell_type": "code",
   "execution_count": 68,
   "metadata": {},
   "outputs": [
    {
     "data": {
      "text/plain": [
       "Index([' Atlanta', ' Austin', ' Boston', ' Dallas', ' Los Angeles',\n",
       "       ' New York City', ' Portland', ' San Francisco', ' Seattle'],\n",
       "      dtype='object', name='ville')"
      ]
     },
     "execution_count": 68,
     "metadata": {},
     "output_type": "execute_result"
    }
   ],
   "source": [
    "Ville.index"
   ]
  },
  {
   "cell_type": "code",
   "execution_count": 83,
   "metadata": {},
   "outputs": [
    {
     "data": {
      "image/png": "[encoded data removed]",
      "text/plain": [
       "<Figure size 432x288 with 1 Axes>"
      ]
     },
     "metadata": {
      "needs_background": "light"
     },
     "output_type": "display_data"
    }
   ],
   "source": [
    "plt.bar(Ville.index,Ville.values)\n",
    "plt.xlabel('villes')\n",
    "plt.ylabel('quantites')\n",
    "plt.title('ventes')\n",
    "plt.xticks(Ville.index,rotation='vertical')\n",
    "plt.show()"
   ]
  },
  {
   "cell_type": "code",
   "execution_count": 73,
   "metadata": {},
   "outputs": [
    {
     "data": {
      "text/plain": [
       "'12/30/19 00:01'"
      ]
     },
     "execution_count": 73,
     "metadata": {},
     "output_type": "execute_result"
    }
   ],
   "source": [
    "df.loc[0,'Order Date']"
   ]
  },
  {
   "cell_type": "code",
   "execution_count": 74,
   "metadata": {},
   "outputs": [
    {
     "data": {
      "text/plain": [
       "['12/30/19', '00:01']"
      ]
     },
     "execution_count": 74,
     "metadata": {},
     "output_type": "execute_result"
    }
   ],
   "source": [
    "df.loc[0,'Order Date'].split(' ')"
   ]
  },
  {
   "cell_type": "code",
   "execution_count": 75,
   "metadata": {},
   "outputs": [],
   "source": [
    "df['heure']=df['Order Date'].apply(lambda x:x.split(' ')[1])"
   ]
  },
  {
   "cell_type": "code",
   "execution_count": 76,
   "metadata": {},
   "outputs": [
    {
     "data": {
      "text/plain": [
       "0         00:01\n",
       "1         07:03\n",
       "2         18:21\n",
       "3         15:13\n",
       "4         12:38\n",
       "          ...  \n",
       "186845    19:02\n",
       "186846    19:29\n",
       "186847    18:57\n",
       "186848    18:35\n",
       "186849    14:33\n",
       "Name: heure, Length: 185950, dtype: object"
      ]
     },
     "execution_count": 76,
     "metadata": {},
     "output_type": "execute_result"
    }
   ],
   "source": [
    "df['heure']"
   ]
  },
  {
   "cell_type": "code",
   "execution_count": 88,
   "metadata": {},
   "outputs": [],
   "source": [
    "df['heure']=pd.to_datetime(df['Order Date']).dt.hour"
   ]
  },
  {
   "cell_type": "code",
   "execution_count": 92,
   "metadata": {},
   "outputs": [],
   "source": [
    "Heure=df['heure'].value_counts()"
   ]
  },
  {
   "cell_type": "code",
   "execution_count": 93,
   "metadata": {},
   "outputs": [
    {
     "data": {
      "text/plain": [
       "12905"
      ]
     },
     "execution_count": 93,
     "metadata": {},
     "output_type": "execute_result"
    }
   ],
   "source": [
    "Heure.max()"
   ]
  },
  {
   "cell_type": "code",
   "execution_count": 95,
   "metadata": {},
   "outputs": [
    {
     "data": {
      "text/plain": [
       "[<matplotlib.lines.Line2D at 0x28d6354a308>]"
      ]
     },
     "execution_count": 95,
     "metadata": {},
     "output_type": "execute_result"
    },
    {
     "data": {
      "image/png": "[encoded data removed]",
      "text/plain": [
       "<Figure size 432x288 with 1 Axes>"
      ]
     },
     "metadata": {
      "needs_background": "light"
     },
     "output_type": "display_data"
    }
   ],
   "source": [
    "plt.plot(Heure.values,Heure.index)"
   ]
  },
  {
   "cell_type": "code",
   "execution_count": null,
   "metadata": {},
   "outputs": [],
   "source": []
  }
 ],
 "metadata": {
  "kernelspec": {
   "display_name": "Python 3",
   "language": "python",
   "name": "python3"
  },
  "language_info": {
   "codemirror_mode": {
    "name": "ipython",
    "version": 3
   },
   "file_extension": ".py",
   "mimetype": "text/x-python",
   "name": "python",
   "nbconvert_exporter": "python",
   "pygments_lexer": "ipython3",
   "version": "3.7.4"
  }
 },
 "nbformat": 4,
 "nbformat_minor": 2
}
